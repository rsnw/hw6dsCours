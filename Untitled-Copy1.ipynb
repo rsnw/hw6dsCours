{
 "cells": [
  {
   "cell_type": "markdown",
   "metadata": {
    "collapsed": true
   },
   "source": [
    "# Visitors and Shoppers' Cars in SF Parking Lots are Easy Targets\n",
    "\n",
    "Exploring the crime data recorded in San Francisco during the summer of 2014, it is clear that the most-common crime is theft from a locked vehicle.  The rate of this crime increases from a low in the middle of the week, Wednesday, to the weekend on Saturday.  "
   ]
  },
  {
   "cell_type": "code",
   "execution_count": null,
   "metadata": {
    "collapsed": true
   },
   "outputs": [],
   "source": [
    "![title](img/picture.png)"
   ]
  },
  {
   "cell_type": "code",
   "execution_count": 2,
   "metadata": {
    "collapsed": false
   },
   "outputs": [
    {
     "data": {
      "text/html": [
       "<iframe width=\"1000\" height=\"600\" scrolling=\"no\" frameborder=\"no\" src=\"https://www.google.com/fusiontables/embedviz?q=select+col10%2C+col9%2C+col14+from+1EO2k_IYOIAWQpDRguHR45BplXee5HTLGc9GUs-T0+where+col14+%3E%3D+4+limit+1000&amp;viz=HEATMAP&amp;h=true&amp;lat=37.78340659961137&amp;lng=-122.45211664226372&amp;t=1&amp;z=13&amp;l=col10&amp;y=2&amp;tmplt=2&amp;hmd=true&amp;hmg=%2366ff0000%2C%2393ff00ff%2C%23c1ff00ff%2C%23eeff00ff%2C%23f4e300ff%2C%23f4e300ff%2C%23f9c600ff%2C%23ffaa00ff%2C%23ff7100ff%2C%23ff3900ff%2C%23ff0000ff&amp;hmo=1&amp;hmr=26&amp;hmw=14&amp;hml=TWO_COL_LAT_LNG\"></iframe>"
      ],
      "text/plain": [
       "<IPython.core.display.HTML object>"
      ]
     },
     "metadata": {},
     "output_type": "display_data"
    }
   ],
   "source": [
    "%%HTML\n",
    "<iframe width=\"1000\" height=\"600\" scrolling=\"no\" frameborder=\"no\" src=\"https://www.google.com/fusiontables/embedviz?q=select+col10%2C+col9%2C+col14+from+1EO2k_IYOIAWQpDRguHR45BplXee5HTLGc9GUs-T0+where+col14+%3E%3D+4+limit+1000&amp;viz=HEATMAP&amp;h=true&amp;lat=37.78340659961137&amp;lng=-122.45211664226372&amp;t=1&amp;z=13&amp;l=col10&amp;y=2&amp;tmplt=2&amp;hmd=true&amp;hmg=%2366ff0000%2C%2393ff00ff%2C%23c1ff00ff%2C%23eeff00ff%2C%23f4e300ff%2C%23f4e300ff%2C%23f9c600ff%2C%23ffaa00ff%2C%23ff7100ff%2C%23ff3900ff%2C%23ff0000ff&amp;hmo=1&amp;hmr=26&amp;hmw=14&amp;hml=TWO_COL_LAT_LNG\"></iframe>\n"
   ]
  },
  {
   "cell_type": "code",
   "execution_count": null,
   "metadata": {
    "collapsed": true
   },
   "outputs": [],
   "source": []
  }
 ],
 "metadata": {
  "kernelspec": {
   "display_name": "Python 3",
   "language": "python",
   "name": "python3"
  },
  "language_info": {
   "codemirror_mode": {
    "name": "ipython",
    "version": 3
   },
   "file_extension": ".py",
   "mimetype": "text/x-python",
   "name": "python",
   "nbconvert_exporter": "python",
   "pygments_lexer": "ipython3",
   "version": "3.5.1"
  }
 },
 "nbformat": 4,
 "nbformat_minor": 0
}
