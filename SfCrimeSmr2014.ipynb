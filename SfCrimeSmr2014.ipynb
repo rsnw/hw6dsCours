{
 "cells": [
  {
   "cell_type": "markdown",
   "metadata": {
    "collapsed": true
   },
   "source": [
    "# Visitors and Shoppers' Cars in SF Parking Lots are Easy Targets\n",
    "\n",
    "Exploring the crime data recorded in San Francisco during the summer of 2014, it is clear that the most-common crime is theft from a locked vehicle.  The rate of this crime increases from a low in the middle of the week, Wednesday, to a high on the weekend days of Sunday and Saturday.  "
   ]
  },
  {
   "cell_type": "code",
   "execution_count": 6,
   "metadata": {
    "collapsed": false
   },
   "outputs": [
    {
     "data": {
      "text/html": [
       "<head>\n",
       "    <!--Load the AJAX API-->\n",
       "    <script type=\"text/javascript\" src=\"https://www.gstatic.com/charts/loader.js\"></script>\n",
       "    <script type=\"text/javascript\">\n",
       "\n",
       "      // Load the Visualization API and the corechart package.\n",
       "      google.charts.load('current', {'packages':['corechart', 'bar']});\n",
       "\n",
       "      // Set a callback to run when the Google Visualization API is loaded.\n",
       "      google.charts.setOnLoadCallback(drawChart);\n",
       "\n",
       "      // Callback that creates and populates a data table,\n",
       "      // instantiates the pie chart, passes in the data and\n",
       "      // draws it.\n",
       "      function drawChart() {\n",
       "\n",
       "\n",
       " // Create the data table.\n",
       "        var data = new google.visualization.DataTable();\n",
       "        data.addColumn('string', 'Day of the Week');\n",
       "        data.addColumn('number', 'GRAND THEFT FROM LOCKED AUTO');\n",
       "        data.addColumn('number', 'LOST PROPERTY');\n",
       "        data.addColumn('number', 'PETTY THEFT OF PROPERTY');\n",
       "        data.addColumn('number', 'STOLEN AUTOMOBILE');\n",
       "        data.addRows([\n",
       "          ['Wednesday',471,145,130,198],\n",
       "['Thursday',485,153,130,182],\n",
       "['Tuesday',504,140,138,151],\n",
       "['Monday',516,159,123,197],\n",
       "['Friday',557,189,169,210],\n",
       "['Sunday',592,210,210,218],\n",
       "['Saturday',641,206,225,194]\n",
       "\n",
       "        ]);\n",
       "\n",
       "        // Set chart options\n",
       "        var options = {'title':'The Top 4 Most Frequent Crimes, SF, Summer 2014',\n",
       "                       'width':1000,'height':500,\n",
       "                       trendlines: {\n",
       "          0: {type: 'linear', lineWidth: 5, opacity: .3}\n",
       "          },hAxis: {\n",
       "          title: 'Day of the Week',\n",
       "         \n",
       "          viewWindow: {\n",
       "            min: [7, 30, 0],\n",
       "            max: [17, 30, 0]\n",
       "          }\n",
       "        },vAxis: {\n",
       "                        title: 'Number of Crimes Committed'\n",
       "            }\n",
       "                      };\n",
       "        //'width':400,'height':300\n",
       "\n",
       "        // Instantiate and draw our chart, passing in some options.\n",
       "        var chart = new google.visualization.ColumnChart(document.getElementById('chart_div'));\n",
       "        chart.draw(data, options);\n",
       "      }\n",
       "    </script>\n",
       "  </head>\n",
       "\n",
       "  <body>\n",
       "    <!--Div that will hold the pie chart-->\n",
       "    <div id=\"chart_div\" style=\"width: 1000px; height: 500px;></div>\n",
       "  </body>"
      ],
      "text/plain": [
       "<IPython.core.display.HTML object>"
      ]
     },
     "metadata": {},
     "output_type": "display_data"
    }
   ],
   "source": [
    "%%HTML\n",
    "<head>\n",
    "    <!--Load the AJAX API-->\n",
    "    <script type=\"text/javascript\" src=\"https://www.gstatic.com/charts/loader.js\"></script>\n",
    "    <script type=\"text/javascript\">\n",
    "\n",
    "      // Load the Visualization API and the corechart package.\n",
    "      google.charts.load('current', {'packages':['corechart', 'bar']});\n",
    "\n",
    "      // Set a callback to run when the Google Visualization API is loaded.\n",
    "      google.charts.setOnLoadCallback(drawChart);\n",
    "\n",
    "      // Callback that creates and populates a data table,\n",
    "      // instantiates the pie chart, passes in the data and\n",
    "      // draws it.\n",
    "      function drawChart() {\n",
    "\n",
    "\n",
    " // Create the data table.\n",
    "        var data = new google.visualization.DataTable();\n",
    "        data.addColumn('string', 'Day of the Week');\n",
    "        data.addColumn('number', 'GRAND THEFT FROM LOCKED AUTO');\n",
    "        data.addColumn('number', 'LOST PROPERTY');\n",
    "        data.addColumn('number', 'PETTY THEFT OF PROPERTY');\n",
    "        data.addColumn('number', 'STOLEN AUTOMOBILE');\n",
    "        data.addRows([\n",
    "          ['Wednesday',471,145,130,198],\n",
    "['Thursday',485,153,130,182],\n",
    "['Tuesday',504,140,138,151],\n",
    "['Monday',516,159,123,197],\n",
    "['Friday',557,189,169,210],\n",
    "['Sunday',592,210,210,218],\n",
    "['Saturday',641,206,225,194]\n",
    "\n",
    "        ]);\n",
    "\n",
    "        // Set chart options\n",
    "        var options = {'title':'The Top 4 Most Frequent Crimes, SF, Summer 2014',\n",
    "                       'width':1000,'height':500,\n",
    "                       trendlines: {\n",
    "          0: {type: 'linear', lineWidth: 5, opacity: .3}\n",
    "          },hAxis: {\n",
    "          title: 'Day of the Week',\n",
    "         \n",
    "          viewWindow: {\n",
    "            min: [7, 30, 0],\n",
    "            max: [17, 30, 0]\n",
    "          }\n",
    "        },vAxis: {\n",
    "                        title: 'Number of Crimes Committed'\n",
    "            }\n",
    "                      };\n",
    "        //'width':400,'height':300\n",
    "\n",
    "        // Instantiate and draw our chart, passing in some options.\n",
    "        var chart = new google.visualization.ColumnChart(document.getElementById('chart_div'));\n",
    "        chart.draw(data, options);\n",
    "      }\n",
    "    </script>\n",
    "  </head>\n",
    "\n",
    "  <body>\n",
    "    <!--Div that will hold the pie chart-->\n",
    "    <div id=\"chart_div\" style=\"width: 1000px; height: 500px;></div>\n",
    "  </body>"
   ]
  },
  {
   "cell_type": "markdown",
   "metadata": {},
   "source": [
    "By isolating this most-common-crime, locked auto theft, and plotting a heat map of where this crime takes place most-often (red is a higher density of this crime), the information provided by google maps shows concentrations in parking garages near popular tourist destinations and shopping areas.  For example, the left spot in red is a parking lot in Golden Gate park, a popular destination for vistors.  The red spot on the right is a parking garage very close to Union Square, which is surrounded by hotels and retail stores."
   ]
  },
  {
   "cell_type": "code",
   "execution_count": 7,
   "metadata": {
    "collapsed": false
   },
   "outputs": [
    {
     "data": {
      "text/html": [
       "<iframe width=\"1000\" height=\"600\" scrolling=\"no\" frameborder=\"no\" src=\"https://www.google.com/fusiontables/embedviz?q=select+col10%2C+col9%2C+col14+from+1EO2k_IYOIAWQpDRguHR45BplXee5HTLGc9GUs-T0+where+col14+%3E%3D+4+limit+1000&amp;viz=HEATMAP&amp;h=true&amp;lat=37.78340659961137&amp;lng=-122.45211664226372&amp;t=1&amp;z=13&amp;l=col10&amp;y=2&amp;tmplt=2&amp;hmd=true&amp;hmg=%2366ff0000%2C%2393ff00ff%2C%23c1ff00ff%2C%23eeff00ff%2C%23f4e300ff%2C%23f4e300ff%2C%23f9c600ff%2C%23ffaa00ff%2C%23ff7100ff%2C%23ff3900ff%2C%23ff0000ff&amp;hmo=1&amp;hmr=26&amp;hmw=14&amp;hml=TWO_COL_LAT_LNG\"></iframe>"
      ],
      "text/plain": [
       "<IPython.core.display.HTML object>"
      ]
     },
     "metadata": {},
     "output_type": "display_data"
    }
   ],
   "source": [
    "%%HTML\n",
    "<iframe width=\"1000\" height=\"600\" scrolling=\"no\" frameborder=\"no\" src=\"https://www.google.com/fusiontables/embedviz?q=select+col10%2C+col9%2C+col14+from+1EO2k_IYOIAWQpDRguHR45BplXee5HTLGc9GUs-T0+where+col14+%3E%3D+4+limit+1000&amp;viz=HEATMAP&amp;h=true&amp;lat=37.78340659961137&amp;lng=-122.45211664226372&amp;t=1&amp;z=13&amp;l=col10&amp;y=2&amp;tmplt=2&amp;hmd=true&amp;hmg=%2366ff0000%2C%2393ff00ff%2C%23c1ff00ff%2C%23eeff00ff%2C%23f4e300ff%2C%23f4e300ff%2C%23f9c600ff%2C%23ffaa00ff%2C%23ff7100ff%2C%23ff3900ff%2C%23ff0000ff&amp;hmo=1&amp;hmr=26&amp;hmw=14&amp;hml=TWO_COL_LAT_LNG\"></iframe>\n"
   ]
  },
  {
   "cell_type": "code",
   "execution_count": null,
   "metadata": {
    "collapsed": true
   },
   "outputs": [],
   "source": []
  }
 ],
 "metadata": {
  "kernelspec": {
   "display_name": "Python 3",
   "language": "python",
   "name": "python3"
  },
  "language_info": {
   "codemirror_mode": {
    "name": "ipython",
    "version": 3
   },
   "file_extension": ".py",
   "mimetype": "text/x-python",
   "name": "python",
   "nbconvert_exporter": "python",
   "pygments_lexer": "ipython3",
   "version": "3.5.1"
  }
 },
 "nbformat": 4,
 "nbformat_minor": 0
}
